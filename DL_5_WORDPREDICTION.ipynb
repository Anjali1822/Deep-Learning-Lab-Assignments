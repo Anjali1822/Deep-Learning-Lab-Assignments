{
  "nbformat": 4,
  "nbformat_minor": 0,
  "metadata": {
    "colab": {
      "provenance": []
    },
    "kernelspec": {
      "name": "python3",
      "display_name": "Python 3"
    },
    "language_info": {
      "name": "python"
    }
  },
  "cells": [
    {
      "cell_type": "code",
      "execution_count": null,
      "metadata": {
        "id": "KqfRGMf2lftu"
      },
      "outputs": [],
      "source": [
        "#Import libraries\n",
        "import tensorflow as tf\n",
        "from tensorflow.keras.models import Sequential\n",
        "from tensorflow.keras.layers import Embedding, LSTM, Dense\n",
        "from tensorflow.keras.preprocessing.text import Tokenizer\n",
        "from tensorflow.keras.preprocessing.sequence import pad_sequences\n",
        "import numpy as np\n",
        "import regex as re# module is an alternative implementation of regular expressions that\n",
        "#extends and enhances the capabilities of the standard re module.\n"
      ]
    },
    {
      "cell_type": "code",
      "source": [
        "#Understanding and preprocessing the dataset\n"
      ],
      "metadata": {
        "id": "RmKda9vyq1o8"
      },
      "execution_count": null,
      "outputs": []
    },
    {
      "cell_type": "code",
      "source": [
        "'''\n",
        "that takes a file path as input, reads the content of the file, and then splits the text into sentences\n",
        " based on common sentence-ending punctuation marks ('.', '?', and '!').\n",
        " The function returns a list of sentences.\n",
        "'''\n",
        "def file_to_sentence_list(file_path):\n",
        "\twith open(file_path, 'r') as file:\n",
        "\t\ttext = file.read()\n",
        "\n",
        "# Splitting the text into sentences using\n",
        "# delimiters like '.', '?', and '!'\n",
        "\n",
        "\tsentences = [sentence.strip() for sentence in re.split(\n",
        "\t\tr'(?<=[.!?])\\s+', text) if sentence.strip()]\n",
        "\n",
        "\treturn sentences"
      ],
      "metadata": {
        "id": "WhHc-WUhsjHz"
      },
      "execution_count": null,
      "outputs": []
    },
    {
      "cell_type": "code",
      "source": [
        "'''\n",
        " file_to_sentence_list to read the content of the file and tokenize it into sentences.\n",
        " After that, you're using the Keras Tokenizer class to tokenize the text data into words and\n",
        " determine the total number of unique words in the text.\n",
        "'''\n",
        "file_path = 'pizza.txt'\n",
        "text_data = file_to_sentence_list(file_path)\n",
        "\n",
        "# Tokenize the text data\n",
        "tokenizer = Tokenizer()\n",
        "tokenizer.fit_on_texts(text_data)\n",
        "total_words = len(tokenizer.word_index) + 1"
      ],
      "metadata": {
        "id": "itQsNbNpsksg"
      },
      "execution_count": null,
      "outputs": []
    },
    {
      "cell_type": "code",
      "source": [
        "# Create input sequences\n",
        "input_sequences = []\n",
        "for line in text_data:\n",
        "\ttoken_list = tokenizer.texts_to_sequences([line])[0]\n",
        "\tfor i in range(1, len(token_list)):\n",
        "\t\tn_gram_sequence = token_list[:i+1]\n",
        "\t\tinput_sequences.append(n_gram_sequence)"
      ],
      "metadata": {
        "id": "jnfWHI0Qsp7K"
      },
      "execution_count": null,
      "outputs": []
    },
    {
      "cell_type": "code",
      "source": [
        "# Pad sequences and split into predictors and label\n",
        "max_sequence_len = max([len(seq) for seq in input_sequences])\n",
        "input_sequences = np.array(pad_sequences(\n",
        "\tinput_sequences, maxlen=max_sequence_len, padding='pre'))\n",
        "X, y = input_sequences[:, :-1], input_sequences[:, -1]\n",
        "\n",
        "# Convert target data to one-hot encoding\n",
        "y = tf.keras.utils.to_categorical(y, num_classes=total_words)"
      ],
      "metadata": {
        "id": "gckhDykgstUO"
      },
      "execution_count": null,
      "outputs": []
    },
    {
      "cell_type": "code",
      "source": [
        "# Define the model\n",
        "model = Sequential()\n",
        "model.add(Embedding(total_words, 10,input_length=max_sequence_len-1))\n",
        "model.add(LSTM(128))\n",
        "model.add(Dense(total_words, activation='softmax'))"
      ],
      "metadata": {
        "id": "KdC28rn_llD-"
      },
      "execution_count": null,
      "outputs": []
    },
    {
      "cell_type": "code",
      "source": [
        "model.compile(loss='categorical_crossentropy',optimizer='adam', metrics=['accuracy'])"
      ],
      "metadata": {
        "id": "yZ0NYpzVllIP"
      },
      "execution_count": null,
      "outputs": []
    },
    {
      "cell_type": "code",
      "source": [
        "# Train the model\n",
        "model.fit(X, y, epochs=50, verbose=1)\n"
      ],
      "metadata": {
        "colab": {
          "base_uri": "https://localhost:8080/"
        },
        "id": "ifgdiLTKllM0",
        "outputId": "f20927c2-c8b5-499f-ffb6-c626973476d1"
      },
      "execution_count": null,
      "outputs": [
        {
          "output_type": "stream",
          "name": "stdout",
          "text": [
            "Epoch 1/50\n",
            "51/51 [==============================] - 7s 80ms/step - loss: 6.2105 - accuracy: 0.0510\n",
            "Epoch 2/50\n",
            "51/51 [==============================] - 3s 50ms/step - loss: 5.7871 - accuracy: 0.0565\n",
            "Epoch 3/50\n",
            "51/51 [==============================] - 3s 50ms/step - loss: 5.7281 - accuracy: 0.0522\n",
            "Epoch 4/50\n",
            "51/51 [==============================] - 3s 51ms/step - loss: 5.7020 - accuracy: 0.0498\n",
            "Epoch 5/50\n",
            "51/51 [==============================] - 4s 72ms/step - loss: 5.6675 - accuracy: 0.0528\n",
            "Epoch 6/50\n",
            "51/51 [==============================] - 4s 74ms/step - loss: 5.6275 - accuracy: 0.0534\n",
            "Epoch 7/50\n",
            "51/51 [==============================] - 3s 51ms/step - loss: 5.5793 - accuracy: 0.0565\n",
            "Epoch 8/50\n",
            "51/51 [==============================] - 3s 51ms/step - loss: 5.5246 - accuracy: 0.0590\n",
            "Epoch 9/50\n",
            "51/51 [==============================] - 3s 51ms/step - loss: 5.4718 - accuracy: 0.0694\n",
            "Epoch 10/50\n",
            "51/51 [==============================] - 4s 82ms/step - loss: 5.4096 - accuracy: 0.0682\n",
            "Epoch 11/50\n",
            "51/51 [==============================] - 3s 67ms/step - loss: 5.3335 - accuracy: 0.0743\n",
            "Epoch 12/50\n",
            "51/51 [==============================] - 3s 50ms/step - loss: 5.2333 - accuracy: 0.0799\n",
            "Epoch 13/50\n",
            "51/51 [==============================] - 3s 50ms/step - loss: 5.1213 - accuracy: 0.0835\n",
            "Epoch 14/50\n",
            "51/51 [==============================] - 3s 50ms/step - loss: 5.0017 - accuracy: 0.1001\n",
            "Epoch 15/50\n",
            "51/51 [==============================] - 4s 83ms/step - loss: 4.8902 - accuracy: 0.1050\n",
            "Epoch 16/50\n",
            "51/51 [==============================] - 3s 64ms/step - loss: 4.7742 - accuracy: 0.1057\n",
            "Epoch 17/50\n",
            "51/51 [==============================] - 3s 50ms/step - loss: 4.6627 - accuracy: 0.1173\n",
            "Epoch 18/50\n",
            "51/51 [==============================] - 3s 50ms/step - loss: 4.5572 - accuracy: 0.1247\n",
            "Epoch 19/50\n",
            "51/51 [==============================] - 3s 50ms/step - loss: 4.4646 - accuracy: 0.1284\n",
            "Epoch 20/50\n",
            "51/51 [==============================] - 4s 85ms/step - loss: 4.3611 - accuracy: 0.1376\n",
            "Epoch 21/50\n",
            "51/51 [==============================] - 3s 60ms/step - loss: 4.2680 - accuracy: 0.1388\n",
            "Epoch 22/50\n",
            "51/51 [==============================] - 3s 52ms/step - loss: 4.1667 - accuracy: 0.1480\n",
            "Epoch 23/50\n",
            "51/51 [==============================] - 3s 51ms/step - loss: 4.0708 - accuracy: 0.1609\n",
            "Epoch 24/50\n",
            "51/51 [==============================] - 3s 51ms/step - loss: 3.9776 - accuracy: 0.1609\n",
            "Epoch 25/50\n",
            "51/51 [==============================] - 5s 91ms/step - loss: 3.8848 - accuracy: 0.1744\n",
            "Epoch 26/50\n",
            "51/51 [==============================] - 3s 55ms/step - loss: 3.7858 - accuracy: 0.1855\n",
            "Epoch 27/50\n",
            "51/51 [==============================] - 3s 51ms/step - loss: 3.6973 - accuracy: 0.1984\n",
            "Epoch 28/50\n",
            "51/51 [==============================] - 3s 51ms/step - loss: 3.6067 - accuracy: 0.2027\n",
            "Epoch 29/50\n",
            "51/51 [==============================] - 3s 53ms/step - loss: 3.5101 - accuracy: 0.2156\n",
            "Epoch 30/50\n",
            "51/51 [==============================] - 5s 94ms/step - loss: 3.4201 - accuracy: 0.2340\n",
            "Epoch 31/50\n",
            "51/51 [==============================] - 3s 50ms/step - loss: 3.3269 - accuracy: 0.2488\n",
            "Epoch 32/50\n",
            "51/51 [==============================] - 3s 50ms/step - loss: 3.2343 - accuracy: 0.2783\n",
            "Epoch 33/50\n",
            "51/51 [==============================] - 3s 50ms/step - loss: 3.1464 - accuracy: 0.2856\n",
            "Epoch 34/50\n",
            "51/51 [==============================] - 3s 55ms/step - loss: 3.0610 - accuracy: 0.3010\n",
            "Epoch 35/50\n",
            "51/51 [==============================] - 5s 91ms/step - loss: 2.9726 - accuracy: 0.3421\n",
            "Epoch 36/50\n",
            "51/51 [==============================] - 5s 95ms/step - loss: 2.8834 - accuracy: 0.3593\n",
            "Epoch 37/50\n",
            "51/51 [==============================] - 3s 53ms/step - loss: 2.8036 - accuracy: 0.3882\n",
            "Epoch 38/50\n",
            "51/51 [==============================] - 3s 58ms/step - loss: 2.7193 - accuracy: 0.4079\n",
            "Epoch 39/50\n",
            "51/51 [==============================] - 5s 89ms/step - loss: 2.6371 - accuracy: 0.4300\n",
            "Epoch 40/50\n",
            "51/51 [==============================] - 3s 51ms/step - loss: 2.5546 - accuracy: 0.4619\n",
            "Epoch 41/50\n",
            "51/51 [==============================] - 3s 51ms/step - loss: 2.4814 - accuracy: 0.4926\n",
            "Epoch 42/50\n",
            "51/51 [==============================] - 3s 52ms/step - loss: 2.4007 - accuracy: 0.5086\n",
            "Epoch 43/50\n",
            "51/51 [==============================] - 3s 68ms/step - loss: 2.3248 - accuracy: 0.5375\n",
            "Epoch 44/50\n",
            "51/51 [==============================] - 4s 81ms/step - loss: 2.2509 - accuracy: 0.5547\n",
            "Epoch 45/50\n",
            "51/51 [==============================] - 3s 53ms/step - loss: 2.1883 - accuracy: 0.5737\n",
            "Epoch 46/50\n",
            "51/51 [==============================] - 3s 51ms/step - loss: 2.1243 - accuracy: 0.5897\n",
            "Epoch 47/50\n",
            "51/51 [==============================] - 3s 51ms/step - loss: 2.0500 - accuracy: 0.6063\n",
            "Epoch 48/50\n",
            "51/51 [==============================] - 4s 76ms/step - loss: 1.9830 - accuracy: 0.6106\n",
            "Epoch 49/50\n",
            "51/51 [==============================] - 4s 73ms/step - loss: 1.9166 - accuracy: 0.6425\n",
            "Epoch 50/50\n",
            "51/51 [==============================] - 3s 52ms/step - loss: 1.8547 - accuracy: 0.6536\n"
          ]
        },
        {
          "output_type": "execute_result",
          "data": {
            "text/plain": [
              "<keras.src.callbacks.History at 0x7fc0cc21a260>"
            ]
          },
          "metadata": {},
          "execution_count": 19
        }
      ]
    },
    {
      "cell_type": "code",
      "source": [
        "# Generate next word predictions\n",
        "seed_text = \"Pizza\"\n",
        "next_words = 5\n",
        "\n",
        "for _ in range(next_words):\n",
        "\ttoken_list = tokenizer.texts_to_sequences([seed_text])[0]\n",
        "\ttoken_list = pad_sequences(\n",
        "\t\t[token_list], maxlen=max_sequence_len-1, padding='pre')\n",
        "\tpredicted_probs = model.predict(token_list)\n",
        "\tpredicted_word = tokenizer.index_word[np.argmax(predicted_probs)]\n",
        "\tseed_text += \" \" + predicted_word\n",
        "\n",
        "print(\"Next predicted words:\", seed_text)\n"
      ],
      "metadata": {
        "colab": {
          "base_uri": "https://localhost:8080/"
        },
        "id": "bSS6TJ85llPs",
        "outputId": "94bdb43d-7414-47af-855a-5976bac7a862"
      },
      "execution_count": null,
      "outputs": [
        {
          "output_type": "stream",
          "name": "stdout",
          "text": [
            "1/1 [==============================] - 1s 619ms/step\n",
            "1/1 [==============================] - 0s 42ms/step\n",
            "1/1 [==============================] - 0s 63ms/step\n",
            "1/1 [==============================] - 0s 40ms/step\n",
            "1/1 [==============================] - 0s 48ms/step\n",
            "Next predicted words: Pizza has become a symbol of\n"
          ]
        }
      ]
    },
    {
      "cell_type": "code",
      "source": [],
      "metadata": {
        "id": "Nkly66ljllSU"
      },
      "execution_count": null,
      "outputs": []
    },
    {
      "cell_type": "code",
      "source": [],
      "metadata": {
        "id": "hQyPU2villUu"
      },
      "execution_count": null,
      "outputs": []
    },
    {
      "cell_type": "code",
      "source": [],
      "metadata": {
        "id": "YLdpj2gUllZ4"
      },
      "execution_count": null,
      "outputs": []
    }
  ]
}